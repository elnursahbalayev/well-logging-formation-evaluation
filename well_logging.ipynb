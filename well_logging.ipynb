{
 "cells": [
  {
   "cell_type": "code",
   "execution_count": 1,
   "metadata": {
    "collapsed": true
   },
   "outputs": [],
   "source": [
    "import numpy as np\n",
    "import pandas as pd\n",
    "import matplotlib.pyplot as plt"
   ]
  },
  {
   "cell_type": "code",
   "execution_count": 2,
   "outputs": [
    {
     "data": {
      "text/plain": "       DEPTH  Unnamed: 1  CALI   RHOB   TNPH      SP     SGR   LLD   LLS  \\\n0         FT         NaN    IN   G/C3    DEC      MV    GAPI  OHMM  OHMM   \n1     7614.0      7554.0  9.55  2.408  0.304  -33.22  102.14  1.72  1.64   \n2     7614.5      7554.5  9.55  2.431  0.346  -33.35   99.20  1.72  1.63   \n3     7615.0      7555.0  9.55  2.463  0.368  -33.43   96.03  1.73  1.63   \n4     7615.5      7555.5  9.55  2.445  0.344  -33.22   95.40  1.76  1.64   \n...      ...         ...   ...    ...    ...     ...     ...   ...   ...   \n2243  8735.0      8675.0  8.55  2.519  0.435  -27.07  110.46  1.56  1.62   \n2244  8735.5      8675.5  8.55  2.507  0.422  -27.13  111.28  1.53  1.57   \n2245  8736.0      8676.0  8.55  2.501  0.419  -27.25  110.29  1.48  1.54   \n2246  8736.5      8676.5  8.55  2.500  0.414  -27.31  110.08  1.45  1.50   \n2247  8737.0      8677.0  8.55  2.506  0.407  -27.31  114.16  1.47  1.47   \n\n     MSFLC   DTLN    DRHO PERMCORE  . PHICORE  GDCORE  \n0     OHMM   US/F    G/C3          MD     FRAC   KGDM  \n1     1.57  91.35   0.010        -999     -999   -999  \n2     1.53  91.55   0.017        -999     -999   -999  \n3     1.49  91.60   0.019        -999     -999   -999  \n4     1.51  91.60   0.011        -999     -999   -999  \n...    ...    ...     ...         ...      ...    ...  \n2243  1.30  94.20  -0.004        -999     -999   -999  \n2244  1.28  93.90  -0.005        -999     -999   -999  \n2245  1.28  94.00   0.004        -999     -999   -999  \n2246  1.25  94.35   0.010        -999     -999   -999  \n2247  1.19  93.90   0.009        -999     -999   -999  \n\n[2248 rows x 15 columns]",
      "text/html": "<div>\n<style scoped>\n    .dataframe tbody tr th:only-of-type {\n        vertical-align: middle;\n    }\n\n    .dataframe tbody tr th {\n        vertical-align: top;\n    }\n\n    .dataframe thead th {\n        text-align: right;\n    }\n</style>\n<table border=\"1\" class=\"dataframe\">\n  <thead>\n    <tr style=\"text-align: right;\">\n      <th></th>\n      <th>DEPTH</th>\n      <th>Unnamed: 1</th>\n      <th>CALI</th>\n      <th>RHOB</th>\n      <th>TNPH</th>\n      <th>SP</th>\n      <th>SGR</th>\n      <th>LLD</th>\n      <th>LLS</th>\n      <th>MSFLC</th>\n      <th>DTLN</th>\n      <th>DRHO</th>\n      <th>PERMCORE  .</th>\n      <th>PHICORE</th>\n      <th>GDCORE</th>\n    </tr>\n  </thead>\n  <tbody>\n    <tr>\n      <th>0</th>\n      <td>FT</td>\n      <td>NaN</td>\n      <td>IN</td>\n      <td>G/C3</td>\n      <td>DEC</td>\n      <td>MV</td>\n      <td>GAPI</td>\n      <td>OHMM</td>\n      <td>OHMM</td>\n      <td>OHMM</td>\n      <td>US/F</td>\n      <td>G/C3</td>\n      <td>MD</td>\n      <td>FRAC</td>\n      <td>KGDM</td>\n    </tr>\n    <tr>\n      <th>1</th>\n      <td>7614.0</td>\n      <td>7554.0</td>\n      <td>9.55</td>\n      <td>2.408</td>\n      <td>0.304</td>\n      <td>-33.22</td>\n      <td>102.14</td>\n      <td>1.72</td>\n      <td>1.64</td>\n      <td>1.57</td>\n      <td>91.35</td>\n      <td>0.010</td>\n      <td>-999</td>\n      <td>-999</td>\n      <td>-999</td>\n    </tr>\n    <tr>\n      <th>2</th>\n      <td>7614.5</td>\n      <td>7554.5</td>\n      <td>9.55</td>\n      <td>2.431</td>\n      <td>0.346</td>\n      <td>-33.35</td>\n      <td>99.20</td>\n      <td>1.72</td>\n      <td>1.63</td>\n      <td>1.53</td>\n      <td>91.55</td>\n      <td>0.017</td>\n      <td>-999</td>\n      <td>-999</td>\n      <td>-999</td>\n    </tr>\n    <tr>\n      <th>3</th>\n      <td>7615.0</td>\n      <td>7555.0</td>\n      <td>9.55</td>\n      <td>2.463</td>\n      <td>0.368</td>\n      <td>-33.43</td>\n      <td>96.03</td>\n      <td>1.73</td>\n      <td>1.63</td>\n      <td>1.49</td>\n      <td>91.60</td>\n      <td>0.019</td>\n      <td>-999</td>\n      <td>-999</td>\n      <td>-999</td>\n    </tr>\n    <tr>\n      <th>4</th>\n      <td>7615.5</td>\n      <td>7555.5</td>\n      <td>9.55</td>\n      <td>2.445</td>\n      <td>0.344</td>\n      <td>-33.22</td>\n      <td>95.40</td>\n      <td>1.76</td>\n      <td>1.64</td>\n      <td>1.51</td>\n      <td>91.60</td>\n      <td>0.011</td>\n      <td>-999</td>\n      <td>-999</td>\n      <td>-999</td>\n    </tr>\n    <tr>\n      <th>...</th>\n      <td>...</td>\n      <td>...</td>\n      <td>...</td>\n      <td>...</td>\n      <td>...</td>\n      <td>...</td>\n      <td>...</td>\n      <td>...</td>\n      <td>...</td>\n      <td>...</td>\n      <td>...</td>\n      <td>...</td>\n      <td>...</td>\n      <td>...</td>\n      <td>...</td>\n    </tr>\n    <tr>\n      <th>2243</th>\n      <td>8735.0</td>\n      <td>8675.0</td>\n      <td>8.55</td>\n      <td>2.519</td>\n      <td>0.435</td>\n      <td>-27.07</td>\n      <td>110.46</td>\n      <td>1.56</td>\n      <td>1.62</td>\n      <td>1.30</td>\n      <td>94.20</td>\n      <td>-0.004</td>\n      <td>-999</td>\n      <td>-999</td>\n      <td>-999</td>\n    </tr>\n    <tr>\n      <th>2244</th>\n      <td>8735.5</td>\n      <td>8675.5</td>\n      <td>8.55</td>\n      <td>2.507</td>\n      <td>0.422</td>\n      <td>-27.13</td>\n      <td>111.28</td>\n      <td>1.53</td>\n      <td>1.57</td>\n      <td>1.28</td>\n      <td>93.90</td>\n      <td>-0.005</td>\n      <td>-999</td>\n      <td>-999</td>\n      <td>-999</td>\n    </tr>\n    <tr>\n      <th>2245</th>\n      <td>8736.0</td>\n      <td>8676.0</td>\n      <td>8.55</td>\n      <td>2.501</td>\n      <td>0.419</td>\n      <td>-27.25</td>\n      <td>110.29</td>\n      <td>1.48</td>\n      <td>1.54</td>\n      <td>1.28</td>\n      <td>94.00</td>\n      <td>0.004</td>\n      <td>-999</td>\n      <td>-999</td>\n      <td>-999</td>\n    </tr>\n    <tr>\n      <th>2246</th>\n      <td>8736.5</td>\n      <td>8676.5</td>\n      <td>8.55</td>\n      <td>2.500</td>\n      <td>0.414</td>\n      <td>-27.31</td>\n      <td>110.08</td>\n      <td>1.45</td>\n      <td>1.50</td>\n      <td>1.25</td>\n      <td>94.35</td>\n      <td>0.010</td>\n      <td>-999</td>\n      <td>-999</td>\n      <td>-999</td>\n    </tr>\n    <tr>\n      <th>2247</th>\n      <td>8737.0</td>\n      <td>8677.0</td>\n      <td>8.55</td>\n      <td>2.506</td>\n      <td>0.407</td>\n      <td>-27.31</td>\n      <td>114.16</td>\n      <td>1.47</td>\n      <td>1.47</td>\n      <td>1.19</td>\n      <td>93.90</td>\n      <td>0.009</td>\n      <td>-999</td>\n      <td>-999</td>\n      <td>-999</td>\n    </tr>\n  </tbody>\n</table>\n<p>2248 rows × 15 columns</p>\n</div>"
     },
     "execution_count": 2,
     "metadata": {},
     "output_type": "execute_result"
    }
   ],
   "source": [
    "df = pd.read_csv('well_data.csv')\n",
    "df"
   ],
   "metadata": {
    "collapsed": false,
    "pycharm": {
     "name": "#%%\n"
    }
   }
  },
  {
   "cell_type": "code",
   "execution_count": 3,
   "outputs": [
    {
     "data": {
      "text/plain": "Index(['DEPTH', 'Unnamed: 1', 'CALI', 'RHOB', 'TNPH', 'SP', 'SGR', 'LLD',\n       'LLS', 'MSFLC', 'DTLN', 'DRHO', 'PERMCORE  .', 'PHICORE ', 'GDCORE'],\n      dtype='object')"
     },
     "execution_count": 3,
     "metadata": {},
     "output_type": "execute_result"
    }
   ],
   "source": [
    "df.columns"
   ],
   "metadata": {
    "collapsed": false,
    "pycharm": {
     "name": "#%%\n"
    }
   }
  },
  {
   "cell_type": "code",
   "execution_count": 4,
   "outputs": [
    {
     "data": {
      "text/plain": "       DEPTH  CALI   RHOB   TNPH      SP     SGR   LLD   LLS MSFLC   DTLN  \\\n0         FT    IN   G/C3    DEC      MV    GAPI  OHMM  OHMM  OHMM   US/F   \n1     7614.0  9.55  2.408  0.304  -33.22  102.14  1.72  1.64  1.57  91.35   \n2     7614.5  9.55  2.431  0.346  -33.35   99.20  1.72  1.63  1.53  91.55   \n3     7615.0  9.55  2.463  0.368  -33.43   96.03  1.73  1.63  1.49  91.60   \n4     7615.5  9.55  2.445  0.344  -33.22   95.40  1.76  1.64  1.51  91.60   \n...      ...   ...    ...    ...     ...     ...   ...   ...   ...    ...   \n2243  8735.0  8.55  2.519  0.435  -27.07  110.46  1.56  1.62  1.30  94.20   \n2244  8735.5  8.55  2.507  0.422  -27.13  111.28  1.53  1.57  1.28  93.90   \n2245  8736.0  8.55  2.501  0.419  -27.25  110.29  1.48  1.54  1.28  94.00   \n2246  8736.5  8.55  2.500  0.414  -27.31  110.08  1.45  1.50  1.25  94.35   \n2247  8737.0  8.55  2.506  0.407  -27.31  114.16  1.47  1.47  1.19  93.90   \n\n        DRHO PERMCORE  . PHICORE  GDCORE  \n0       G/C3          MD     FRAC   KGDM  \n1      0.010        -999     -999   -999  \n2      0.017        -999     -999   -999  \n3      0.019        -999     -999   -999  \n4      0.011        -999     -999   -999  \n...      ...         ...      ...    ...  \n2243  -0.004        -999     -999   -999  \n2244  -0.005        -999     -999   -999  \n2245   0.004        -999     -999   -999  \n2246   0.010        -999     -999   -999  \n2247   0.009        -999     -999   -999  \n\n[2248 rows x 14 columns]",
      "text/html": "<div>\n<style scoped>\n    .dataframe tbody tr th:only-of-type {\n        vertical-align: middle;\n    }\n\n    .dataframe tbody tr th {\n        vertical-align: top;\n    }\n\n    .dataframe thead th {\n        text-align: right;\n    }\n</style>\n<table border=\"1\" class=\"dataframe\">\n  <thead>\n    <tr style=\"text-align: right;\">\n      <th></th>\n      <th>DEPTH</th>\n      <th>CALI</th>\n      <th>RHOB</th>\n      <th>TNPH</th>\n      <th>SP</th>\n      <th>SGR</th>\n      <th>LLD</th>\n      <th>LLS</th>\n      <th>MSFLC</th>\n      <th>DTLN</th>\n      <th>DRHO</th>\n      <th>PERMCORE  .</th>\n      <th>PHICORE</th>\n      <th>GDCORE</th>\n    </tr>\n  </thead>\n  <tbody>\n    <tr>\n      <th>0</th>\n      <td>FT</td>\n      <td>IN</td>\n      <td>G/C3</td>\n      <td>DEC</td>\n      <td>MV</td>\n      <td>GAPI</td>\n      <td>OHMM</td>\n      <td>OHMM</td>\n      <td>OHMM</td>\n      <td>US/F</td>\n      <td>G/C3</td>\n      <td>MD</td>\n      <td>FRAC</td>\n      <td>KGDM</td>\n    </tr>\n    <tr>\n      <th>1</th>\n      <td>7614.0</td>\n      <td>9.55</td>\n      <td>2.408</td>\n      <td>0.304</td>\n      <td>-33.22</td>\n      <td>102.14</td>\n      <td>1.72</td>\n      <td>1.64</td>\n      <td>1.57</td>\n      <td>91.35</td>\n      <td>0.010</td>\n      <td>-999</td>\n      <td>-999</td>\n      <td>-999</td>\n    </tr>\n    <tr>\n      <th>2</th>\n      <td>7614.5</td>\n      <td>9.55</td>\n      <td>2.431</td>\n      <td>0.346</td>\n      <td>-33.35</td>\n      <td>99.20</td>\n      <td>1.72</td>\n      <td>1.63</td>\n      <td>1.53</td>\n      <td>91.55</td>\n      <td>0.017</td>\n      <td>-999</td>\n      <td>-999</td>\n      <td>-999</td>\n    </tr>\n    <tr>\n      <th>3</th>\n      <td>7615.0</td>\n      <td>9.55</td>\n      <td>2.463</td>\n      <td>0.368</td>\n      <td>-33.43</td>\n      <td>96.03</td>\n      <td>1.73</td>\n      <td>1.63</td>\n      <td>1.49</td>\n      <td>91.60</td>\n      <td>0.019</td>\n      <td>-999</td>\n      <td>-999</td>\n      <td>-999</td>\n    </tr>\n    <tr>\n      <th>4</th>\n      <td>7615.5</td>\n      <td>9.55</td>\n      <td>2.445</td>\n      <td>0.344</td>\n      <td>-33.22</td>\n      <td>95.40</td>\n      <td>1.76</td>\n      <td>1.64</td>\n      <td>1.51</td>\n      <td>91.60</td>\n      <td>0.011</td>\n      <td>-999</td>\n      <td>-999</td>\n      <td>-999</td>\n    </tr>\n    <tr>\n      <th>...</th>\n      <td>...</td>\n      <td>...</td>\n      <td>...</td>\n      <td>...</td>\n      <td>...</td>\n      <td>...</td>\n      <td>...</td>\n      <td>...</td>\n      <td>...</td>\n      <td>...</td>\n      <td>...</td>\n      <td>...</td>\n      <td>...</td>\n      <td>...</td>\n    </tr>\n    <tr>\n      <th>2243</th>\n      <td>8735.0</td>\n      <td>8.55</td>\n      <td>2.519</td>\n      <td>0.435</td>\n      <td>-27.07</td>\n      <td>110.46</td>\n      <td>1.56</td>\n      <td>1.62</td>\n      <td>1.30</td>\n      <td>94.20</td>\n      <td>-0.004</td>\n      <td>-999</td>\n      <td>-999</td>\n      <td>-999</td>\n    </tr>\n    <tr>\n      <th>2244</th>\n      <td>8735.5</td>\n      <td>8.55</td>\n      <td>2.507</td>\n      <td>0.422</td>\n      <td>-27.13</td>\n      <td>111.28</td>\n      <td>1.53</td>\n      <td>1.57</td>\n      <td>1.28</td>\n      <td>93.90</td>\n      <td>-0.005</td>\n      <td>-999</td>\n      <td>-999</td>\n      <td>-999</td>\n    </tr>\n    <tr>\n      <th>2245</th>\n      <td>8736.0</td>\n      <td>8.55</td>\n      <td>2.501</td>\n      <td>0.419</td>\n      <td>-27.25</td>\n      <td>110.29</td>\n      <td>1.48</td>\n      <td>1.54</td>\n      <td>1.28</td>\n      <td>94.00</td>\n      <td>0.004</td>\n      <td>-999</td>\n      <td>-999</td>\n      <td>-999</td>\n    </tr>\n    <tr>\n      <th>2246</th>\n      <td>8736.5</td>\n      <td>8.55</td>\n      <td>2.500</td>\n      <td>0.414</td>\n      <td>-27.31</td>\n      <td>110.08</td>\n      <td>1.45</td>\n      <td>1.50</td>\n      <td>1.25</td>\n      <td>94.35</td>\n      <td>0.010</td>\n      <td>-999</td>\n      <td>-999</td>\n      <td>-999</td>\n    </tr>\n    <tr>\n      <th>2247</th>\n      <td>8737.0</td>\n      <td>8.55</td>\n      <td>2.506</td>\n      <td>0.407</td>\n      <td>-27.31</td>\n      <td>114.16</td>\n      <td>1.47</td>\n      <td>1.47</td>\n      <td>1.19</td>\n      <td>93.90</td>\n      <td>0.009</td>\n      <td>-999</td>\n      <td>-999</td>\n      <td>-999</td>\n    </tr>\n  </tbody>\n</table>\n<p>2248 rows × 14 columns</p>\n</div>"
     },
     "execution_count": 4,
     "metadata": {},
     "output_type": "execute_result"
    }
   ],
   "source": [
    "df.drop('Unnamed: 1', axis=1, inplace=True)\n",
    "df"
   ],
   "metadata": {
    "collapsed": false,
    "pycharm": {
     "name": "#%%\n"
    }
   }
  },
  {
   "cell_type": "markdown",
   "source": [
    "for now we can ignore the units, since we know the values and meanings"
   ],
   "metadata": {
    "collapsed": false
   }
  },
  {
   "cell_type": "code",
   "execution_count": 5,
   "outputs": [
    {
     "data": {
      "text/plain": "       DEPTH  CALI   RHOB   TNPH      SP     SGR   LLD   LLS MSFLC   DTLN  \\\n1     7614.0  9.55  2.408  0.304  -33.22  102.14  1.72  1.64  1.57  91.35   \n2     7614.5  9.55  2.431  0.346  -33.35   99.20  1.72  1.63  1.53  91.55   \n3     7615.0  9.55  2.463  0.368  -33.43   96.03  1.73  1.63  1.49  91.60   \n4     7615.5  9.55  2.445  0.344  -33.22   95.40  1.76  1.64  1.51  91.60   \n5     7616.0  9.55  2.417  0.297  -33.14   96.17  1.77  1.65  1.61  91.70   \n...      ...   ...    ...    ...     ...     ...   ...   ...   ...    ...   \n2243  8735.0  8.55  2.519  0.435  -27.07  110.46  1.56  1.62  1.30  94.20   \n2244  8735.5  8.55  2.507  0.422  -27.13  111.28  1.53  1.57  1.28  93.90   \n2245  8736.0  8.55  2.501  0.419  -27.25  110.29  1.48  1.54  1.28  94.00   \n2246  8736.5  8.55  2.500  0.414  -27.31  110.08  1.45  1.50  1.25  94.35   \n2247  8737.0  8.55  2.506  0.407  -27.31  114.16  1.47  1.47  1.19  93.90   \n\n        DRHO PERMCORE  . PHICORE  GDCORE  \n1      0.010        -999     -999   -999  \n2      0.017        -999     -999   -999  \n3      0.019        -999     -999   -999  \n4      0.011        -999     -999   -999  \n5      0.012        -999     -999   -999  \n...      ...         ...      ...    ...  \n2243  -0.004        -999     -999   -999  \n2244  -0.005        -999     -999   -999  \n2245   0.004        -999     -999   -999  \n2246   0.010        -999     -999   -999  \n2247   0.009        -999     -999   -999  \n\n[2247 rows x 14 columns]",
      "text/html": "<div>\n<style scoped>\n    .dataframe tbody tr th:only-of-type {\n        vertical-align: middle;\n    }\n\n    .dataframe tbody tr th {\n        vertical-align: top;\n    }\n\n    .dataframe thead th {\n        text-align: right;\n    }\n</style>\n<table border=\"1\" class=\"dataframe\">\n  <thead>\n    <tr style=\"text-align: right;\">\n      <th></th>\n      <th>DEPTH</th>\n      <th>CALI</th>\n      <th>RHOB</th>\n      <th>TNPH</th>\n      <th>SP</th>\n      <th>SGR</th>\n      <th>LLD</th>\n      <th>LLS</th>\n      <th>MSFLC</th>\n      <th>DTLN</th>\n      <th>DRHO</th>\n      <th>PERMCORE  .</th>\n      <th>PHICORE</th>\n      <th>GDCORE</th>\n    </tr>\n  </thead>\n  <tbody>\n    <tr>\n      <th>1</th>\n      <td>7614.0</td>\n      <td>9.55</td>\n      <td>2.408</td>\n      <td>0.304</td>\n      <td>-33.22</td>\n      <td>102.14</td>\n      <td>1.72</td>\n      <td>1.64</td>\n      <td>1.57</td>\n      <td>91.35</td>\n      <td>0.010</td>\n      <td>-999</td>\n      <td>-999</td>\n      <td>-999</td>\n    </tr>\n    <tr>\n      <th>2</th>\n      <td>7614.5</td>\n      <td>9.55</td>\n      <td>2.431</td>\n      <td>0.346</td>\n      <td>-33.35</td>\n      <td>99.20</td>\n      <td>1.72</td>\n      <td>1.63</td>\n      <td>1.53</td>\n      <td>91.55</td>\n      <td>0.017</td>\n      <td>-999</td>\n      <td>-999</td>\n      <td>-999</td>\n    </tr>\n    <tr>\n      <th>3</th>\n      <td>7615.0</td>\n      <td>9.55</td>\n      <td>2.463</td>\n      <td>0.368</td>\n      <td>-33.43</td>\n      <td>96.03</td>\n      <td>1.73</td>\n      <td>1.63</td>\n      <td>1.49</td>\n      <td>91.60</td>\n      <td>0.019</td>\n      <td>-999</td>\n      <td>-999</td>\n      <td>-999</td>\n    </tr>\n    <tr>\n      <th>4</th>\n      <td>7615.5</td>\n      <td>9.55</td>\n      <td>2.445</td>\n      <td>0.344</td>\n      <td>-33.22</td>\n      <td>95.40</td>\n      <td>1.76</td>\n      <td>1.64</td>\n      <td>1.51</td>\n      <td>91.60</td>\n      <td>0.011</td>\n      <td>-999</td>\n      <td>-999</td>\n      <td>-999</td>\n    </tr>\n    <tr>\n      <th>5</th>\n      <td>7616.0</td>\n      <td>9.55</td>\n      <td>2.417</td>\n      <td>0.297</td>\n      <td>-33.14</td>\n      <td>96.17</td>\n      <td>1.77</td>\n      <td>1.65</td>\n      <td>1.61</td>\n      <td>91.70</td>\n      <td>0.012</td>\n      <td>-999</td>\n      <td>-999</td>\n      <td>-999</td>\n    </tr>\n    <tr>\n      <th>...</th>\n      <td>...</td>\n      <td>...</td>\n      <td>...</td>\n      <td>...</td>\n      <td>...</td>\n      <td>...</td>\n      <td>...</td>\n      <td>...</td>\n      <td>...</td>\n      <td>...</td>\n      <td>...</td>\n      <td>...</td>\n      <td>...</td>\n      <td>...</td>\n    </tr>\n    <tr>\n      <th>2243</th>\n      <td>8735.0</td>\n      <td>8.55</td>\n      <td>2.519</td>\n      <td>0.435</td>\n      <td>-27.07</td>\n      <td>110.46</td>\n      <td>1.56</td>\n      <td>1.62</td>\n      <td>1.30</td>\n      <td>94.20</td>\n      <td>-0.004</td>\n      <td>-999</td>\n      <td>-999</td>\n      <td>-999</td>\n    </tr>\n    <tr>\n      <th>2244</th>\n      <td>8735.5</td>\n      <td>8.55</td>\n      <td>2.507</td>\n      <td>0.422</td>\n      <td>-27.13</td>\n      <td>111.28</td>\n      <td>1.53</td>\n      <td>1.57</td>\n      <td>1.28</td>\n      <td>93.90</td>\n      <td>-0.005</td>\n      <td>-999</td>\n      <td>-999</td>\n      <td>-999</td>\n    </tr>\n    <tr>\n      <th>2245</th>\n      <td>8736.0</td>\n      <td>8.55</td>\n      <td>2.501</td>\n      <td>0.419</td>\n      <td>-27.25</td>\n      <td>110.29</td>\n      <td>1.48</td>\n      <td>1.54</td>\n      <td>1.28</td>\n      <td>94.00</td>\n      <td>0.004</td>\n      <td>-999</td>\n      <td>-999</td>\n      <td>-999</td>\n    </tr>\n    <tr>\n      <th>2246</th>\n      <td>8736.5</td>\n      <td>8.55</td>\n      <td>2.500</td>\n      <td>0.414</td>\n      <td>-27.31</td>\n      <td>110.08</td>\n      <td>1.45</td>\n      <td>1.50</td>\n      <td>1.25</td>\n      <td>94.35</td>\n      <td>0.010</td>\n      <td>-999</td>\n      <td>-999</td>\n      <td>-999</td>\n    </tr>\n    <tr>\n      <th>2247</th>\n      <td>8737.0</td>\n      <td>8.55</td>\n      <td>2.506</td>\n      <td>0.407</td>\n      <td>-27.31</td>\n      <td>114.16</td>\n      <td>1.47</td>\n      <td>1.47</td>\n      <td>1.19</td>\n      <td>93.90</td>\n      <td>0.009</td>\n      <td>-999</td>\n      <td>-999</td>\n      <td>-999</td>\n    </tr>\n  </tbody>\n</table>\n<p>2247 rows × 14 columns</p>\n</div>"
     },
     "execution_count": 5,
     "metadata": {},
     "output_type": "execute_result"
    }
   ],
   "source": [
    "df.drop(0, axis=0, inplace=True)\n",
    "df"
   ],
   "metadata": {
    "collapsed": false,
    "pycharm": {
     "name": "#%%\n"
    }
   }
  },
  {
   "cell_type": "markdown",
   "source": [
    "First we need to check the data, empty columns and so on"
   ],
   "metadata": {
    "collapsed": false,
    "pycharm": {
     "name": "#%% md\n"
    }
   }
  },
  {
   "cell_type": "code",
   "execution_count": 6,
   "outputs": [
    {
     "name": "stdout",
     "output_type": "stream",
     "text": [
      "<class 'pandas.core.frame.DataFrame'>\n",
      "Int64Index: 2247 entries, 1 to 2247\n",
      "Data columns (total 14 columns):\n",
      " #   Column       Non-Null Count  Dtype \n",
      "---  ------       --------------  ----- \n",
      " 0   DEPTH        2247 non-null   object\n",
      " 1   CALI         2247 non-null   object\n",
      " 2   RHOB         2247 non-null   object\n",
      " 3   TNPH         2247 non-null   object\n",
      " 4   SP           2247 non-null   object\n",
      " 5   SGR          2247 non-null   object\n",
      " 6   LLD          2247 non-null   object\n",
      " 7   LLS          2247 non-null   object\n",
      " 8   MSFLC        2247 non-null   object\n",
      " 9   DTLN         2247 non-null   object\n",
      " 10  DRHO         2247 non-null   object\n",
      " 11  PERMCORE  .  2247 non-null   object\n",
      " 12  PHICORE      2247 non-null   object\n",
      " 13  GDCORE       2247 non-null   object\n",
      "dtypes: object(14)\n",
      "memory usage: 263.3+ KB\n"
     ]
    }
   ],
   "source": [
    "df.info()"
   ],
   "metadata": {
    "collapsed": false,
    "pycharm": {
     "name": "#%%\n"
    }
   }
  },
  {
   "cell_type": "markdown",
   "source": [
    "as we see values are shown as object while they should be float numbers. Let's change their format"
   ],
   "metadata": {
    "collapsed": false,
    "pycharm": {
     "name": "#%% md\n"
    }
   }
  },
  {
   "cell_type": "code",
   "execution_count": 7,
   "outputs": [],
   "source": [
    "df = df.astype(float)"
   ],
   "metadata": {
    "collapsed": false,
    "pycharm": {
     "name": "#%%\n"
    }
   }
  },
  {
   "cell_type": "code",
   "execution_count": 8,
   "outputs": [
    {
     "name": "stdout",
     "output_type": "stream",
     "text": [
      "<class 'pandas.core.frame.DataFrame'>\n",
      "Int64Index: 2247 entries, 1 to 2247\n",
      "Data columns (total 14 columns):\n",
      " #   Column       Non-Null Count  Dtype  \n",
      "---  ------       --------------  -----  \n",
      " 0   DEPTH        2247 non-null   float64\n",
      " 1   CALI         2247 non-null   float64\n",
      " 2   RHOB         2247 non-null   float64\n",
      " 3   TNPH         2247 non-null   float64\n",
      " 4   SP           2247 non-null   float64\n",
      " 5   SGR          2247 non-null   float64\n",
      " 6   LLD          2247 non-null   float64\n",
      " 7   LLS          2247 non-null   float64\n",
      " 8   MSFLC        2247 non-null   float64\n",
      " 9   DTLN         2247 non-null   float64\n",
      " 10  DRHO         2247 non-null   float64\n",
      " 11  PERMCORE  .  2247 non-null   float64\n",
      " 12  PHICORE      2247 non-null   float64\n",
      " 13  GDCORE       2247 non-null   float64\n",
      "dtypes: float64(14)\n",
      "memory usage: 263.3 KB\n"
     ]
    }
   ],
   "source": [
    "df.info()"
   ],
   "metadata": {
    "collapsed": false,
    "pycharm": {
     "name": "#%%\n"
    }
   }
  },
  {
   "cell_type": "code",
   "execution_count": 9,
   "outputs": [
    {
     "data": {
      "text/plain": "DEPTH          0\nCALI           0\nRHOB           0\nTNPH           0\nSP             0\nSGR            0\nLLD            0\nLLS            0\nMSFLC          0\nDTLN           0\nDRHO           0\nPERMCORE  .    0\nPHICORE        0\nGDCORE         0\ndtype: int64"
     },
     "execution_count": 9,
     "metadata": {},
     "output_type": "execute_result"
    }
   ],
   "source": [
    "df.isna().sum()"
   ],
   "metadata": {
    "collapsed": false,
    "pycharm": {
     "name": "#%%\n"
    }
   }
  },
  {
   "cell_type": "markdown",
   "source": [
    "we can see that all the data is full, and there is no empty row, so we can continue working with their values."
   ],
   "metadata": {
    "collapsed": false,
    "pycharm": {
     "name": "#%% md\n"
    }
   }
  },
  {
   "cell_type": "markdown",
   "source": [
    "# Gamma Ray"
   ],
   "metadata": {
    "collapsed": false,
    "pycharm": {
     "name": "#%% md\n"
    }
   }
  },
  {
   "cell_type": "markdown",
   "source": [
    "to find the Vsh value, we need to know the max, min and current gamma ray value. let's check max and minimum values first"
   ],
   "metadata": {
    "collapsed": false,
    "pycharm": {
     "name": "#%% md\n"
    }
   }
  },
  {
   "cell_type": "code",
   "execution_count": 10,
   "outputs": [
    {
     "name": "stdout",
     "output_type": "stream",
     "text": [
      "max gamma ray value is 139.69\n",
      "min gamma ray value is 13.88\n"
     ]
    }
   ],
   "source": [
    "print(f'max gamma ray value is {df[\"SGR\"].max()}')\n",
    "print(f'min gamma ray value is {df[\"SGR\"].min()}')"
   ],
   "metadata": {
    "collapsed": false,
    "pycharm": {
     "name": "#%%\n"
    }
   }
  },
  {
   "cell_type": "markdown",
   "source": [
    "![](Vsh.png)"
   ],
   "metadata": {
    "collapsed": false
   }
  },
  {
   "cell_type": "code",
   "execution_count": 11,
   "outputs": [
    {
     "data": {
      "text/plain": "       DEPTH  CALI   RHOB   TNPH     SP     SGR   LLD   LLS  MSFLC   DTLN  \\\n1     7614.0  9.55  2.408  0.304 -33.22  102.14  1.72  1.64   1.57  91.35   \n2     7614.5  9.55  2.431  0.346 -33.35   99.20  1.72  1.63   1.53  91.55   \n3     7615.0  9.55  2.463  0.368 -33.43   96.03  1.73  1.63   1.49  91.60   \n4     7615.5  9.55  2.445  0.344 -33.22   95.40  1.76  1.64   1.51  91.60   \n5     7616.0  9.55  2.417  0.297 -33.14   96.17  1.77  1.65   1.61  91.70   \n...      ...   ...    ...    ...    ...     ...   ...   ...    ...    ...   \n2243  8735.0  8.55  2.519  0.435 -27.07  110.46  1.56  1.62   1.30  94.20   \n2244  8735.5  8.55  2.507  0.422 -27.13  111.28  1.53  1.57   1.28  93.90   \n2245  8736.0  8.55  2.501  0.419 -27.25  110.29  1.48  1.54   1.28  94.00   \n2246  8736.5  8.55  2.500  0.414 -27.31  110.08  1.45  1.50   1.25  94.35   \n2247  8737.0  8.55  2.506  0.407 -27.31  114.16  1.47  1.47   1.19  93.90   \n\n       DRHO  PERMCORE  .  PHICORE   GDCORE       Vsh  \n1     0.010       -999.0    -999.0  -999.0  0.701534  \n2     0.017       -999.0    -999.0  -999.0  0.678165  \n3     0.019       -999.0    -999.0  -999.0  0.652969  \n4     0.011       -999.0    -999.0  -999.0  0.647961  \n5     0.012       -999.0    -999.0  -999.0  0.654082  \n...     ...          ...       ...     ...       ...  \n2243 -0.004       -999.0    -999.0  -999.0  0.767666  \n2244 -0.005       -999.0    -999.0  -999.0  0.774183  \n2245  0.004       -999.0    -999.0  -999.0  0.766314  \n2246  0.010       -999.0    -999.0  -999.0  0.764645  \n2247  0.009       -999.0    -999.0  -999.0  0.797075  \n\n[2247 rows x 15 columns]",
      "text/html": "<div>\n<style scoped>\n    .dataframe tbody tr th:only-of-type {\n        vertical-align: middle;\n    }\n\n    .dataframe tbody tr th {\n        vertical-align: top;\n    }\n\n    .dataframe thead th {\n        text-align: right;\n    }\n</style>\n<table border=\"1\" class=\"dataframe\">\n  <thead>\n    <tr style=\"text-align: right;\">\n      <th></th>\n      <th>DEPTH</th>\n      <th>CALI</th>\n      <th>RHOB</th>\n      <th>TNPH</th>\n      <th>SP</th>\n      <th>SGR</th>\n      <th>LLD</th>\n      <th>LLS</th>\n      <th>MSFLC</th>\n      <th>DTLN</th>\n      <th>DRHO</th>\n      <th>PERMCORE  .</th>\n      <th>PHICORE</th>\n      <th>GDCORE</th>\n      <th>Vsh</th>\n    </tr>\n  </thead>\n  <tbody>\n    <tr>\n      <th>1</th>\n      <td>7614.0</td>\n      <td>9.55</td>\n      <td>2.408</td>\n      <td>0.304</td>\n      <td>-33.22</td>\n      <td>102.14</td>\n      <td>1.72</td>\n      <td>1.64</td>\n      <td>1.57</td>\n      <td>91.35</td>\n      <td>0.010</td>\n      <td>-999.0</td>\n      <td>-999.0</td>\n      <td>-999.0</td>\n      <td>0.701534</td>\n    </tr>\n    <tr>\n      <th>2</th>\n      <td>7614.5</td>\n      <td>9.55</td>\n      <td>2.431</td>\n      <td>0.346</td>\n      <td>-33.35</td>\n      <td>99.20</td>\n      <td>1.72</td>\n      <td>1.63</td>\n      <td>1.53</td>\n      <td>91.55</td>\n      <td>0.017</td>\n      <td>-999.0</td>\n      <td>-999.0</td>\n      <td>-999.0</td>\n      <td>0.678165</td>\n    </tr>\n    <tr>\n      <th>3</th>\n      <td>7615.0</td>\n      <td>9.55</td>\n      <td>2.463</td>\n      <td>0.368</td>\n      <td>-33.43</td>\n      <td>96.03</td>\n      <td>1.73</td>\n      <td>1.63</td>\n      <td>1.49</td>\n      <td>91.60</td>\n      <td>0.019</td>\n      <td>-999.0</td>\n      <td>-999.0</td>\n      <td>-999.0</td>\n      <td>0.652969</td>\n    </tr>\n    <tr>\n      <th>4</th>\n      <td>7615.5</td>\n      <td>9.55</td>\n      <td>2.445</td>\n      <td>0.344</td>\n      <td>-33.22</td>\n      <td>95.40</td>\n      <td>1.76</td>\n      <td>1.64</td>\n      <td>1.51</td>\n      <td>91.60</td>\n      <td>0.011</td>\n      <td>-999.0</td>\n      <td>-999.0</td>\n      <td>-999.0</td>\n      <td>0.647961</td>\n    </tr>\n    <tr>\n      <th>5</th>\n      <td>7616.0</td>\n      <td>9.55</td>\n      <td>2.417</td>\n      <td>0.297</td>\n      <td>-33.14</td>\n      <td>96.17</td>\n      <td>1.77</td>\n      <td>1.65</td>\n      <td>1.61</td>\n      <td>91.70</td>\n      <td>0.012</td>\n      <td>-999.0</td>\n      <td>-999.0</td>\n      <td>-999.0</td>\n      <td>0.654082</td>\n    </tr>\n    <tr>\n      <th>...</th>\n      <td>...</td>\n      <td>...</td>\n      <td>...</td>\n      <td>...</td>\n      <td>...</td>\n      <td>...</td>\n      <td>...</td>\n      <td>...</td>\n      <td>...</td>\n      <td>...</td>\n      <td>...</td>\n      <td>...</td>\n      <td>...</td>\n      <td>...</td>\n      <td>...</td>\n    </tr>\n    <tr>\n      <th>2243</th>\n      <td>8735.0</td>\n      <td>8.55</td>\n      <td>2.519</td>\n      <td>0.435</td>\n      <td>-27.07</td>\n      <td>110.46</td>\n      <td>1.56</td>\n      <td>1.62</td>\n      <td>1.30</td>\n      <td>94.20</td>\n      <td>-0.004</td>\n      <td>-999.0</td>\n      <td>-999.0</td>\n      <td>-999.0</td>\n      <td>0.767666</td>\n    </tr>\n    <tr>\n      <th>2244</th>\n      <td>8735.5</td>\n      <td>8.55</td>\n      <td>2.507</td>\n      <td>0.422</td>\n      <td>-27.13</td>\n      <td>111.28</td>\n      <td>1.53</td>\n      <td>1.57</td>\n      <td>1.28</td>\n      <td>93.90</td>\n      <td>-0.005</td>\n      <td>-999.0</td>\n      <td>-999.0</td>\n      <td>-999.0</td>\n      <td>0.774183</td>\n    </tr>\n    <tr>\n      <th>2245</th>\n      <td>8736.0</td>\n      <td>8.55</td>\n      <td>2.501</td>\n      <td>0.419</td>\n      <td>-27.25</td>\n      <td>110.29</td>\n      <td>1.48</td>\n      <td>1.54</td>\n      <td>1.28</td>\n      <td>94.00</td>\n      <td>0.004</td>\n      <td>-999.0</td>\n      <td>-999.0</td>\n      <td>-999.0</td>\n      <td>0.766314</td>\n    </tr>\n    <tr>\n      <th>2246</th>\n      <td>8736.5</td>\n      <td>8.55</td>\n      <td>2.500</td>\n      <td>0.414</td>\n      <td>-27.31</td>\n      <td>110.08</td>\n      <td>1.45</td>\n      <td>1.50</td>\n      <td>1.25</td>\n      <td>94.35</td>\n      <td>0.010</td>\n      <td>-999.0</td>\n      <td>-999.0</td>\n      <td>-999.0</td>\n      <td>0.764645</td>\n    </tr>\n    <tr>\n      <th>2247</th>\n      <td>8737.0</td>\n      <td>8.55</td>\n      <td>2.506</td>\n      <td>0.407</td>\n      <td>-27.31</td>\n      <td>114.16</td>\n      <td>1.47</td>\n      <td>1.47</td>\n      <td>1.19</td>\n      <td>93.90</td>\n      <td>0.009</td>\n      <td>-999.0</td>\n      <td>-999.0</td>\n      <td>-999.0</td>\n      <td>0.797075</td>\n    </tr>\n  </tbody>\n</table>\n<p>2247 rows × 15 columns</p>\n</div>"
     },
     "execution_count": 11,
     "metadata": {},
     "output_type": "execute_result"
    }
   ],
   "source": [
    "df['Vsh'] = (df['SGR']-df['SGR'].min())/(df['SGR'].max() - df['SGR'].min())\n",
    "df"
   ],
   "metadata": {
    "collapsed": false,
    "pycharm": {
     "name": "#%%\n"
    }
   }
  },
  {
   "cell_type": "markdown",
   "source": [
    "However, not all kinds of rocks are the same and especially for gamma ray shale log, there needs to be correction depending on the age of the rock. in the question, it is stated that it is tertiar shale otherwise known as Laorinov correlated shale. Formula for this is given as:\n"
   ],
   "metadata": {
    "collapsed": false
   }
  },
  {
   "cell_type": "markdown",
   "source": [
    "![](laorinov.png)"
   ],
   "metadata": {
    "collapsed": false
   }
  },
  {
   "cell_type": "code",
   "execution_count": 12,
   "outputs": [
    {
     "data": {
      "text/plain": "       DEPTH  CALI   RHOB   TNPH     SP     SGR   LLD   LLS  MSFLC   DTLN  \\\n1     7614.0  9.55  2.408  0.304 -33.22  102.14  1.72  1.64   1.57  91.35   \n2     7614.5  9.55  2.431  0.346 -33.35   99.20  1.72  1.63   1.53  91.55   \n3     7615.0  9.55  2.463  0.368 -33.43   96.03  1.73  1.63   1.49  91.60   \n4     7615.5  9.55  2.445  0.344 -33.22   95.40  1.76  1.64   1.51  91.60   \n5     7616.0  9.55  2.417  0.297 -33.14   96.17  1.77  1.65   1.61  91.70   \n...      ...   ...    ...    ...    ...     ...   ...   ...    ...    ...   \n2243  8735.0  8.55  2.519  0.435 -27.07  110.46  1.56  1.62   1.30  94.20   \n2244  8735.5  8.55  2.507  0.422 -27.13  111.28  1.53  1.57   1.28  93.90   \n2245  8736.0  8.55  2.501  0.419 -27.25  110.29  1.48  1.54   1.28  94.00   \n2246  8736.5  8.55  2.500  0.414 -27.31  110.08  1.45  1.50   1.25  94.35   \n2247  8737.0  8.55  2.506  0.407 -27.31  114.16  1.47  1.47   1.19  93.90   \n\n       DRHO  PERMCORE  .  PHICORE   GDCORE       Vsh  Vsh_Larionov  \n1     0.010       -999.0    -999.0  -999.0  0.701534      0.418712  \n2     0.017       -999.0    -999.0  -999.0  0.678165      0.389527  \n3     0.019       -999.0    -999.0  -999.0  0.652969      0.359957  \n4     0.011       -999.0    -999.0  -999.0  0.647961      0.354305  \n5     0.012       -999.0    -999.0  -999.0  0.654082      0.361223  \n...     ...          ...       ...     ...       ...           ...  \n2243 -0.004       -999.0    -999.0  -999.0  0.767666      0.511446  \n2244 -0.005       -999.0    -999.0  -999.0  0.774183      0.521466  \n2245  0.004       -999.0    -999.0  -999.0  0.766314      0.509390  \n2246  0.010       -999.0    -999.0  -999.0  0.764645      0.506859  \n2247  0.009       -999.0    -999.0  -999.0  0.797075      0.558016  \n\n[2247 rows x 16 columns]",
      "text/html": "<div>\n<style scoped>\n    .dataframe tbody tr th:only-of-type {\n        vertical-align: middle;\n    }\n\n    .dataframe tbody tr th {\n        vertical-align: top;\n    }\n\n    .dataframe thead th {\n        text-align: right;\n    }\n</style>\n<table border=\"1\" class=\"dataframe\">\n  <thead>\n    <tr style=\"text-align: right;\">\n      <th></th>\n      <th>DEPTH</th>\n      <th>CALI</th>\n      <th>RHOB</th>\n      <th>TNPH</th>\n      <th>SP</th>\n      <th>SGR</th>\n      <th>LLD</th>\n      <th>LLS</th>\n      <th>MSFLC</th>\n      <th>DTLN</th>\n      <th>DRHO</th>\n      <th>PERMCORE  .</th>\n      <th>PHICORE</th>\n      <th>GDCORE</th>\n      <th>Vsh</th>\n      <th>Vsh_Larionov</th>\n    </tr>\n  </thead>\n  <tbody>\n    <tr>\n      <th>1</th>\n      <td>7614.0</td>\n      <td>9.55</td>\n      <td>2.408</td>\n      <td>0.304</td>\n      <td>-33.22</td>\n      <td>102.14</td>\n      <td>1.72</td>\n      <td>1.64</td>\n      <td>1.57</td>\n      <td>91.35</td>\n      <td>0.010</td>\n      <td>-999.0</td>\n      <td>-999.0</td>\n      <td>-999.0</td>\n      <td>0.701534</td>\n      <td>0.418712</td>\n    </tr>\n    <tr>\n      <th>2</th>\n      <td>7614.5</td>\n      <td>9.55</td>\n      <td>2.431</td>\n      <td>0.346</td>\n      <td>-33.35</td>\n      <td>99.20</td>\n      <td>1.72</td>\n      <td>1.63</td>\n      <td>1.53</td>\n      <td>91.55</td>\n      <td>0.017</td>\n      <td>-999.0</td>\n      <td>-999.0</td>\n      <td>-999.0</td>\n      <td>0.678165</td>\n      <td>0.389527</td>\n    </tr>\n    <tr>\n      <th>3</th>\n      <td>7615.0</td>\n      <td>9.55</td>\n      <td>2.463</td>\n      <td>0.368</td>\n      <td>-33.43</td>\n      <td>96.03</td>\n      <td>1.73</td>\n      <td>1.63</td>\n      <td>1.49</td>\n      <td>91.60</td>\n      <td>0.019</td>\n      <td>-999.0</td>\n      <td>-999.0</td>\n      <td>-999.0</td>\n      <td>0.652969</td>\n      <td>0.359957</td>\n    </tr>\n    <tr>\n      <th>4</th>\n      <td>7615.5</td>\n      <td>9.55</td>\n      <td>2.445</td>\n      <td>0.344</td>\n      <td>-33.22</td>\n      <td>95.40</td>\n      <td>1.76</td>\n      <td>1.64</td>\n      <td>1.51</td>\n      <td>91.60</td>\n      <td>0.011</td>\n      <td>-999.0</td>\n      <td>-999.0</td>\n      <td>-999.0</td>\n      <td>0.647961</td>\n      <td>0.354305</td>\n    </tr>\n    <tr>\n      <th>5</th>\n      <td>7616.0</td>\n      <td>9.55</td>\n      <td>2.417</td>\n      <td>0.297</td>\n      <td>-33.14</td>\n      <td>96.17</td>\n      <td>1.77</td>\n      <td>1.65</td>\n      <td>1.61</td>\n      <td>91.70</td>\n      <td>0.012</td>\n      <td>-999.0</td>\n      <td>-999.0</td>\n      <td>-999.0</td>\n      <td>0.654082</td>\n      <td>0.361223</td>\n    </tr>\n    <tr>\n      <th>...</th>\n      <td>...</td>\n      <td>...</td>\n      <td>...</td>\n      <td>...</td>\n      <td>...</td>\n      <td>...</td>\n      <td>...</td>\n      <td>...</td>\n      <td>...</td>\n      <td>...</td>\n      <td>...</td>\n      <td>...</td>\n      <td>...</td>\n      <td>...</td>\n      <td>...</td>\n      <td>...</td>\n    </tr>\n    <tr>\n      <th>2243</th>\n      <td>8735.0</td>\n      <td>8.55</td>\n      <td>2.519</td>\n      <td>0.435</td>\n      <td>-27.07</td>\n      <td>110.46</td>\n      <td>1.56</td>\n      <td>1.62</td>\n      <td>1.30</td>\n      <td>94.20</td>\n      <td>-0.004</td>\n      <td>-999.0</td>\n      <td>-999.0</td>\n      <td>-999.0</td>\n      <td>0.767666</td>\n      <td>0.511446</td>\n    </tr>\n    <tr>\n      <th>2244</th>\n      <td>8735.5</td>\n      <td>8.55</td>\n      <td>2.507</td>\n      <td>0.422</td>\n      <td>-27.13</td>\n      <td>111.28</td>\n      <td>1.53</td>\n      <td>1.57</td>\n      <td>1.28</td>\n      <td>93.90</td>\n      <td>-0.005</td>\n      <td>-999.0</td>\n      <td>-999.0</td>\n      <td>-999.0</td>\n      <td>0.774183</td>\n      <td>0.521466</td>\n    </tr>\n    <tr>\n      <th>2245</th>\n      <td>8736.0</td>\n      <td>8.55</td>\n      <td>2.501</td>\n      <td>0.419</td>\n      <td>-27.25</td>\n      <td>110.29</td>\n      <td>1.48</td>\n      <td>1.54</td>\n      <td>1.28</td>\n      <td>94.00</td>\n      <td>0.004</td>\n      <td>-999.0</td>\n      <td>-999.0</td>\n      <td>-999.0</td>\n      <td>0.766314</td>\n      <td>0.509390</td>\n    </tr>\n    <tr>\n      <th>2246</th>\n      <td>8736.5</td>\n      <td>8.55</td>\n      <td>2.500</td>\n      <td>0.414</td>\n      <td>-27.31</td>\n      <td>110.08</td>\n      <td>1.45</td>\n      <td>1.50</td>\n      <td>1.25</td>\n      <td>94.35</td>\n      <td>0.010</td>\n      <td>-999.0</td>\n      <td>-999.0</td>\n      <td>-999.0</td>\n      <td>0.764645</td>\n      <td>0.506859</td>\n    </tr>\n    <tr>\n      <th>2247</th>\n      <td>8737.0</td>\n      <td>8.55</td>\n      <td>2.506</td>\n      <td>0.407</td>\n      <td>-27.31</td>\n      <td>114.16</td>\n      <td>1.47</td>\n      <td>1.47</td>\n      <td>1.19</td>\n      <td>93.90</td>\n      <td>0.009</td>\n      <td>-999.0</td>\n      <td>-999.0</td>\n      <td>-999.0</td>\n      <td>0.797075</td>\n      <td>0.558016</td>\n    </tr>\n  </tbody>\n</table>\n<p>2247 rows × 16 columns</p>\n</div>"
     },
     "execution_count": 12,
     "metadata": {},
     "output_type": "execute_result"
    }
   ],
   "source": [
    "df['Vsh_Larionov'] = 0.083 * (2**(3.7*df['Vsh'])-1)\n",
    "df"
   ],
   "metadata": {
    "collapsed": false,
    "pycharm": {
     "name": "#%%\n"
    }
   }
  },
  {
   "cell_type": "markdown",
   "source": [
    "Now that we have Vsh Larionov values we can determine if rock is mostly shale or sandstone/limestone, thus if Vsh is bigger than 0.5 I will consider it shale, but otherwise sandstone/limestone"
   ],
   "metadata": {
    "collapsed": false
   }
  },
  {
   "cell_type": "code",
   "execution_count": 13,
   "outputs": [
    {
     "name": "stderr",
     "output_type": "stream",
     "text": [
      "C:\\Users\\elnur\\AppData\\Local\\Temp/ipykernel_7688/2077780113.py:4: SettingWithCopyWarning: \n",
      "A value is trying to be set on a copy of a slice from a DataFrame\n",
      "\n",
      "See the caveats in the documentation: https://pandas.pydata.org/pandas-docs/stable/user_guide/indexing.html#returning-a-view-versus-a-copy\n",
      "  df['Lithology'][i] = 'Shale'\n",
      "C:\\Users\\elnur\\anaconda3\\envs\\oilngas\\lib\\site-packages\\pandas\\core\\indexing.py:1732: SettingWithCopyWarning: \n",
      "A value is trying to be set on a copy of a slice from a DataFrame\n",
      "\n",
      "See the caveats in the documentation: https://pandas.pydata.org/pandas-docs/stable/user_guide/indexing.html#returning-a-view-versus-a-copy\n",
      "  self._setitem_single_block(indexer, value, name)\n"
     ]
    },
    {
     "data": {
      "text/plain": "       DEPTH  CALI   RHOB   TNPH     SP     SGR   LLD   LLS  MSFLC   DTLN  \\\n1     7614.0  9.55  2.408  0.304 -33.22  102.14  1.72  1.64   1.57  91.35   \n2     7614.5  9.55  2.431  0.346 -33.35   99.20  1.72  1.63   1.53  91.55   \n3     7615.0  9.55  2.463  0.368 -33.43   96.03  1.73  1.63   1.49  91.60   \n4     7615.5  9.55  2.445  0.344 -33.22   95.40  1.76  1.64   1.51  91.60   \n5     7616.0  9.55  2.417  0.297 -33.14   96.17  1.77  1.65   1.61  91.70   \n...      ...   ...    ...    ...    ...     ...   ...   ...    ...    ...   \n2243  8735.0  8.55  2.519  0.435 -27.07  110.46  1.56  1.62   1.30  94.20   \n2244  8735.5  8.55  2.507  0.422 -27.13  111.28  1.53  1.57   1.28  93.90   \n2245  8736.0  8.55  2.501  0.419 -27.25  110.29  1.48  1.54   1.28  94.00   \n2246  8736.5  8.55  2.500  0.414 -27.31  110.08  1.45  1.50   1.25  94.35   \n2247  8737.0  8.55  2.506  0.407 -27.31  114.16  1.47  1.47   1.19  93.90   \n\n       DRHO  PERMCORE  .  PHICORE   GDCORE       Vsh  Vsh_Larionov Lithology  \n1     0.010       -999.0    -999.0  -999.0  0.701534      0.418712     Shale  \n2     0.017       -999.0    -999.0  -999.0  0.678165      0.389527     Shale  \n3     0.019       -999.0    -999.0  -999.0  0.652969      0.359957     Shale  \n4     0.011       -999.0    -999.0  -999.0  0.647961      0.354305     Shale  \n5     0.012       -999.0    -999.0  -999.0  0.654082      0.361223     Shale  \n...     ...          ...       ...     ...       ...           ...       ...  \n2243 -0.004       -999.0    -999.0  -999.0  0.767666      0.511446     Shale  \n2244 -0.005       -999.0    -999.0  -999.0  0.774183      0.521466     Shale  \n2245  0.004       -999.0    -999.0  -999.0  0.766314      0.509390     Shale  \n2246  0.010       -999.0    -999.0  -999.0  0.764645      0.506859     Shale  \n2247  0.009       -999.0    -999.0  -999.0  0.797075      0.558016     Shale  \n\n[2247 rows x 17 columns]",
      "text/html": "<div>\n<style scoped>\n    .dataframe tbody tr th:only-of-type {\n        vertical-align: middle;\n    }\n\n    .dataframe tbody tr th {\n        vertical-align: top;\n    }\n\n    .dataframe thead th {\n        text-align: right;\n    }\n</style>\n<table border=\"1\" class=\"dataframe\">\n  <thead>\n    <tr style=\"text-align: right;\">\n      <th></th>\n      <th>DEPTH</th>\n      <th>CALI</th>\n      <th>RHOB</th>\n      <th>TNPH</th>\n      <th>SP</th>\n      <th>SGR</th>\n      <th>LLD</th>\n      <th>LLS</th>\n      <th>MSFLC</th>\n      <th>DTLN</th>\n      <th>DRHO</th>\n      <th>PERMCORE  .</th>\n      <th>PHICORE</th>\n      <th>GDCORE</th>\n      <th>Vsh</th>\n      <th>Vsh_Larionov</th>\n      <th>Lithology</th>\n    </tr>\n  </thead>\n  <tbody>\n    <tr>\n      <th>1</th>\n      <td>7614.0</td>\n      <td>9.55</td>\n      <td>2.408</td>\n      <td>0.304</td>\n      <td>-33.22</td>\n      <td>102.14</td>\n      <td>1.72</td>\n      <td>1.64</td>\n      <td>1.57</td>\n      <td>91.35</td>\n      <td>0.010</td>\n      <td>-999.0</td>\n      <td>-999.0</td>\n      <td>-999.0</td>\n      <td>0.701534</td>\n      <td>0.418712</td>\n      <td>Shale</td>\n    </tr>\n    <tr>\n      <th>2</th>\n      <td>7614.5</td>\n      <td>9.55</td>\n      <td>2.431</td>\n      <td>0.346</td>\n      <td>-33.35</td>\n      <td>99.20</td>\n      <td>1.72</td>\n      <td>1.63</td>\n      <td>1.53</td>\n      <td>91.55</td>\n      <td>0.017</td>\n      <td>-999.0</td>\n      <td>-999.0</td>\n      <td>-999.0</td>\n      <td>0.678165</td>\n      <td>0.389527</td>\n      <td>Shale</td>\n    </tr>\n    <tr>\n      <th>3</th>\n      <td>7615.0</td>\n      <td>9.55</td>\n      <td>2.463</td>\n      <td>0.368</td>\n      <td>-33.43</td>\n      <td>96.03</td>\n      <td>1.73</td>\n      <td>1.63</td>\n      <td>1.49</td>\n      <td>91.60</td>\n      <td>0.019</td>\n      <td>-999.0</td>\n      <td>-999.0</td>\n      <td>-999.0</td>\n      <td>0.652969</td>\n      <td>0.359957</td>\n      <td>Shale</td>\n    </tr>\n    <tr>\n      <th>4</th>\n      <td>7615.5</td>\n      <td>9.55</td>\n      <td>2.445</td>\n      <td>0.344</td>\n      <td>-33.22</td>\n      <td>95.40</td>\n      <td>1.76</td>\n      <td>1.64</td>\n      <td>1.51</td>\n      <td>91.60</td>\n      <td>0.011</td>\n      <td>-999.0</td>\n      <td>-999.0</td>\n      <td>-999.0</td>\n      <td>0.647961</td>\n      <td>0.354305</td>\n      <td>Shale</td>\n    </tr>\n    <tr>\n      <th>5</th>\n      <td>7616.0</td>\n      <td>9.55</td>\n      <td>2.417</td>\n      <td>0.297</td>\n      <td>-33.14</td>\n      <td>96.17</td>\n      <td>1.77</td>\n      <td>1.65</td>\n      <td>1.61</td>\n      <td>91.70</td>\n      <td>0.012</td>\n      <td>-999.0</td>\n      <td>-999.0</td>\n      <td>-999.0</td>\n      <td>0.654082</td>\n      <td>0.361223</td>\n      <td>Shale</td>\n    </tr>\n    <tr>\n      <th>...</th>\n      <td>...</td>\n      <td>...</td>\n      <td>...</td>\n      <td>...</td>\n      <td>...</td>\n      <td>...</td>\n      <td>...</td>\n      <td>...</td>\n      <td>...</td>\n      <td>...</td>\n      <td>...</td>\n      <td>...</td>\n      <td>...</td>\n      <td>...</td>\n      <td>...</td>\n      <td>...</td>\n      <td>...</td>\n    </tr>\n    <tr>\n      <th>2243</th>\n      <td>8735.0</td>\n      <td>8.55</td>\n      <td>2.519</td>\n      <td>0.435</td>\n      <td>-27.07</td>\n      <td>110.46</td>\n      <td>1.56</td>\n      <td>1.62</td>\n      <td>1.30</td>\n      <td>94.20</td>\n      <td>-0.004</td>\n      <td>-999.0</td>\n      <td>-999.0</td>\n      <td>-999.0</td>\n      <td>0.767666</td>\n      <td>0.511446</td>\n      <td>Shale</td>\n    </tr>\n    <tr>\n      <th>2244</th>\n      <td>8735.5</td>\n      <td>8.55</td>\n      <td>2.507</td>\n      <td>0.422</td>\n      <td>-27.13</td>\n      <td>111.28</td>\n      <td>1.53</td>\n      <td>1.57</td>\n      <td>1.28</td>\n      <td>93.90</td>\n      <td>-0.005</td>\n      <td>-999.0</td>\n      <td>-999.0</td>\n      <td>-999.0</td>\n      <td>0.774183</td>\n      <td>0.521466</td>\n      <td>Shale</td>\n    </tr>\n    <tr>\n      <th>2245</th>\n      <td>8736.0</td>\n      <td>8.55</td>\n      <td>2.501</td>\n      <td>0.419</td>\n      <td>-27.25</td>\n      <td>110.29</td>\n      <td>1.48</td>\n      <td>1.54</td>\n      <td>1.28</td>\n      <td>94.00</td>\n      <td>0.004</td>\n      <td>-999.0</td>\n      <td>-999.0</td>\n      <td>-999.0</td>\n      <td>0.766314</td>\n      <td>0.509390</td>\n      <td>Shale</td>\n    </tr>\n    <tr>\n      <th>2246</th>\n      <td>8736.5</td>\n      <td>8.55</td>\n      <td>2.500</td>\n      <td>0.414</td>\n      <td>-27.31</td>\n      <td>110.08</td>\n      <td>1.45</td>\n      <td>1.50</td>\n      <td>1.25</td>\n      <td>94.35</td>\n      <td>0.010</td>\n      <td>-999.0</td>\n      <td>-999.0</td>\n      <td>-999.0</td>\n      <td>0.764645</td>\n      <td>0.506859</td>\n      <td>Shale</td>\n    </tr>\n    <tr>\n      <th>2247</th>\n      <td>8737.0</td>\n      <td>8.55</td>\n      <td>2.506</td>\n      <td>0.407</td>\n      <td>-27.31</td>\n      <td>114.16</td>\n      <td>1.47</td>\n      <td>1.47</td>\n      <td>1.19</td>\n      <td>93.90</td>\n      <td>0.009</td>\n      <td>-999.0</td>\n      <td>-999.0</td>\n      <td>-999.0</td>\n      <td>0.797075</td>\n      <td>0.558016</td>\n      <td>Shale</td>\n    </tr>\n  </tbody>\n</table>\n<p>2247 rows × 17 columns</p>\n</div>"
     },
     "execution_count": 13,
     "metadata": {},
     "output_type": "execute_result"
    }
   ],
   "source": [
    "df['Lithology'] = 0\n",
    "for i in range(1,len(df)+1):\n",
    "    if df['Vsh'][i] > 0.5:\n",
    "        df['Lithology'][i] = 'Shale'\n",
    "        # print('shale')\n",
    "    elif df['Vsh'][i] < 0.5:\n",
    "        df['Lithology'][i] = 'Sandstone'\n",
    "        # print('sandstone')\n",
    "\n",
    "df"
   ],
   "metadata": {
    "collapsed": false,
    "pycharm": {
     "name": "#%%\n"
    }
   }
  },
  {
   "cell_type": "markdown",
   "source": [
    "# Density log\n",
    "\n",
    "Now we are going to utilise the density log values, and using it we will find porosity.\n",
    "Before starting, we need to know the matrix density and fluid density. For matrix density , d(shale) = 2.747 g/cc , d(sandstone) = 2.650 g/cc and d(brine) = 1.1 g/cc, d(gaseffect) = 0.7 g/cc"
   ],
   "metadata": {
    "collapsed": false
   }
  },
  {
   "cell_type": "code",
   "execution_count": 14,
   "outputs": [
    {
     "data": {
      "text/plain": "       Fluid Density\n0      Shale   2.747\n1  Sandstone   2.650",
      "text/html": "<div>\n<style scoped>\n    .dataframe tbody tr th:only-of-type {\n        vertical-align: middle;\n    }\n\n    .dataframe tbody tr th {\n        vertical-align: top;\n    }\n\n    .dataframe thead th {\n        text-align: right;\n    }\n</style>\n<table border=\"1\" class=\"dataframe\">\n  <thead>\n    <tr style=\"text-align: right;\">\n      <th></th>\n      <th>Fluid</th>\n      <th>Density</th>\n    </tr>\n  </thead>\n  <tbody>\n    <tr>\n      <th>0</th>\n      <td>Shale</td>\n      <td>2.747</td>\n    </tr>\n    <tr>\n      <th>1</th>\n      <td>Sandstone</td>\n      <td>2.650</td>\n    </tr>\n  </tbody>\n</table>\n</div>"
     },
     "execution_count": 14,
     "metadata": {},
     "output_type": "execute_result"
    }
   ],
   "source": [
    "densities = pd.DataFrame({'Fluid': ['Shale','Sandstone'], 'Density':['2.747','2.650']})\n",
    "densities"
   ],
   "metadata": {
    "collapsed": false,
    "pycharm": {
     "name": "#%%\n"
    }
   }
  },
  {
   "cell_type": "code",
   "execution_count": 15,
   "outputs": [],
   "source": [
    "densities['Density'] = densities['Density'].astype(float)"
   ],
   "metadata": {
    "collapsed": false,
    "pycharm": {
     "name": "#%%\n"
    }
   }
  },
  {
   "cell_type": "code",
   "execution_count": 16,
   "outputs": [
    {
     "name": "stdout",
     "output_type": "stream",
     "text": [
      "<class 'pandas.core.frame.DataFrame'>\n",
      "RangeIndex: 2 entries, 0 to 1\n",
      "Data columns (total 2 columns):\n",
      " #   Column   Non-Null Count  Dtype  \n",
      "---  ------   --------------  -----  \n",
      " 0   Fluid    2 non-null      object \n",
      " 1   Density  2 non-null      float64\n",
      "dtypes: float64(1), object(1)\n",
      "memory usage: 160.0+ bytes\n"
     ]
    }
   ],
   "source": [
    "densities.info()"
   ],
   "metadata": {
    "collapsed": false,
    "pycharm": {
     "name": "#%%\n"
    }
   }
  },
  {
   "cell_type": "code",
   "execution_count": 17,
   "outputs": [
    {
     "ename": "ValueError",
     "evalue": "You are trying to merge on object and int64 columns. If you wish to proceed you should use pd.concat",
     "output_type": "error",
     "traceback": [
      "\u001B[1;31m---------------------------------------------------------------------------\u001B[0m",
      "\u001B[1;31mValueError\u001B[0m                                Traceback (most recent call last)",
      "\u001B[1;32m~\\AppData\\Local\\Temp/ipykernel_7688/2153880538.py\u001B[0m in \u001B[0;36m<module>\u001B[1;34m\u001B[0m\n\u001B[1;32m----> 1\u001B[1;33m \u001B[0mdf\u001B[0m \u001B[1;33m=\u001B[0m \u001B[0mdf\u001B[0m\u001B[1;33m.\u001B[0m\u001B[0mjoin\u001B[0m\u001B[1;33m(\u001B[0m\u001B[0mdensities\u001B[0m\u001B[1;33m,\u001B[0m \u001B[0mon\u001B[0m\u001B[1;33m=\u001B[0m\u001B[1;34m'Lithology'\u001B[0m\u001B[1;33m)\u001B[0m\u001B[1;33m\u001B[0m\u001B[1;33m\u001B[0m\u001B[0m\n\u001B[0m\u001B[0;32m      2\u001B[0m \u001B[0mdf\u001B[0m\u001B[1;33m\u001B[0m\u001B[1;33m\u001B[0m\u001B[0m\n",
      "\u001B[1;32m~\\anaconda3\\envs\\oilngas\\lib\\site-packages\\pandas\\core\\frame.py\u001B[0m in \u001B[0;36mjoin\u001B[1;34m(self, other, on, how, lsuffix, rsuffix, sort)\u001B[0m\n\u001B[0;32m   9097\u001B[0m         \u001B[1;36m5\u001B[0m  \u001B[0mK5\u001B[0m  \u001B[0mA5\u001B[0m  \u001B[0mNaN\u001B[0m\u001B[1;33m\u001B[0m\u001B[1;33m\u001B[0m\u001B[0m\n\u001B[0;32m   9098\u001B[0m         \"\"\"\n\u001B[1;32m-> 9099\u001B[1;33m         return self._join_compat(\n\u001B[0m\u001B[0;32m   9100\u001B[0m             \u001B[0mother\u001B[0m\u001B[1;33m,\u001B[0m \u001B[0mon\u001B[0m\u001B[1;33m=\u001B[0m\u001B[0mon\u001B[0m\u001B[1;33m,\u001B[0m \u001B[0mhow\u001B[0m\u001B[1;33m=\u001B[0m\u001B[0mhow\u001B[0m\u001B[1;33m,\u001B[0m \u001B[0mlsuffix\u001B[0m\u001B[1;33m=\u001B[0m\u001B[0mlsuffix\u001B[0m\u001B[1;33m,\u001B[0m \u001B[0mrsuffix\u001B[0m\u001B[1;33m=\u001B[0m\u001B[0mrsuffix\u001B[0m\u001B[1;33m,\u001B[0m \u001B[0msort\u001B[0m\u001B[1;33m=\u001B[0m\u001B[0msort\u001B[0m\u001B[1;33m\u001B[0m\u001B[1;33m\u001B[0m\u001B[0m\n\u001B[0;32m   9101\u001B[0m         )\n",
      "\u001B[1;32m~\\anaconda3\\envs\\oilngas\\lib\\site-packages\\pandas\\core\\frame.py\u001B[0m in \u001B[0;36m_join_compat\u001B[1;34m(self, other, on, how, lsuffix, rsuffix, sort)\u001B[0m\n\u001B[0;32m   9128\u001B[0m                     \u001B[0msort\u001B[0m\u001B[1;33m=\u001B[0m\u001B[0msort\u001B[0m\u001B[1;33m,\u001B[0m\u001B[1;33m\u001B[0m\u001B[1;33m\u001B[0m\u001B[0m\n\u001B[0;32m   9129\u001B[0m                 )\n\u001B[1;32m-> 9130\u001B[1;33m             return merge(\n\u001B[0m\u001B[0;32m   9131\u001B[0m                 \u001B[0mself\u001B[0m\u001B[1;33m,\u001B[0m\u001B[1;33m\u001B[0m\u001B[1;33m\u001B[0m\u001B[0m\n\u001B[0;32m   9132\u001B[0m                 \u001B[0mother\u001B[0m\u001B[1;33m,\u001B[0m\u001B[1;33m\u001B[0m\u001B[1;33m\u001B[0m\u001B[0m\n",
      "\u001B[1;32m~\\anaconda3\\envs\\oilngas\\lib\\site-packages\\pandas\\core\\reshape\\merge.py\u001B[0m in \u001B[0;36mmerge\u001B[1;34m(left, right, how, on, left_on, right_on, left_index, right_index, sort, suffixes, copy, indicator, validate)\u001B[0m\n\u001B[0;32m    104\u001B[0m     \u001B[0mvalidate\u001B[0m\u001B[1;33m:\u001B[0m \u001B[0mstr\u001B[0m \u001B[1;33m|\u001B[0m \u001B[1;32mNone\u001B[0m \u001B[1;33m=\u001B[0m \u001B[1;32mNone\u001B[0m\u001B[1;33m,\u001B[0m\u001B[1;33m\u001B[0m\u001B[1;33m\u001B[0m\u001B[0m\n\u001B[0;32m    105\u001B[0m ) -> DataFrame:\n\u001B[1;32m--> 106\u001B[1;33m     op = _MergeOperation(\n\u001B[0m\u001B[0;32m    107\u001B[0m         \u001B[0mleft\u001B[0m\u001B[1;33m,\u001B[0m\u001B[1;33m\u001B[0m\u001B[1;33m\u001B[0m\u001B[0m\n\u001B[0;32m    108\u001B[0m         \u001B[0mright\u001B[0m\u001B[1;33m,\u001B[0m\u001B[1;33m\u001B[0m\u001B[1;33m\u001B[0m\u001B[0m\n",
      "\u001B[1;32m~\\anaconda3\\envs\\oilngas\\lib\\site-packages\\pandas\\core\\reshape\\merge.py\u001B[0m in \u001B[0;36m__init__\u001B[1;34m(self, left, right, how, on, left_on, right_on, axis, left_index, right_index, sort, suffixes, copy, indicator, validate)\u001B[0m\n\u001B[0;32m    701\u001B[0m         \u001B[1;31m# validate the merge keys dtypes. We may need to coerce\u001B[0m\u001B[1;33m\u001B[0m\u001B[1;33m\u001B[0m\u001B[1;33m\u001B[0m\u001B[0m\n\u001B[0;32m    702\u001B[0m         \u001B[1;31m# to avoid incompatible dtypes\u001B[0m\u001B[1;33m\u001B[0m\u001B[1;33m\u001B[0m\u001B[1;33m\u001B[0m\u001B[0m\n\u001B[1;32m--> 703\u001B[1;33m         \u001B[0mself\u001B[0m\u001B[1;33m.\u001B[0m\u001B[0m_maybe_coerce_merge_keys\u001B[0m\u001B[1;33m(\u001B[0m\u001B[1;33m)\u001B[0m\u001B[1;33m\u001B[0m\u001B[1;33m\u001B[0m\u001B[0m\n\u001B[0m\u001B[0;32m    704\u001B[0m \u001B[1;33m\u001B[0m\u001B[0m\n\u001B[0;32m    705\u001B[0m         \u001B[1;31m# If argument passed to validate,\u001B[0m\u001B[1;33m\u001B[0m\u001B[1;33m\u001B[0m\u001B[1;33m\u001B[0m\u001B[0m\n",
      "\u001B[1;32m~\\anaconda3\\envs\\oilngas\\lib\\site-packages\\pandas\\core\\reshape\\merge.py\u001B[0m in \u001B[0;36m_maybe_coerce_merge_keys\u001B[1;34m(self)\u001B[0m\n\u001B[0;32m   1254\u001B[0m                     \u001B[0minferred_right\u001B[0m \u001B[1;32min\u001B[0m \u001B[0mstring_types\u001B[0m \u001B[1;32mand\u001B[0m \u001B[0minferred_left\u001B[0m \u001B[1;32mnot\u001B[0m \u001B[1;32min\u001B[0m \u001B[0mstring_types\u001B[0m\u001B[1;33m\u001B[0m\u001B[1;33m\u001B[0m\u001B[0m\n\u001B[0;32m   1255\u001B[0m                 ):\n\u001B[1;32m-> 1256\u001B[1;33m                     \u001B[1;32mraise\u001B[0m \u001B[0mValueError\u001B[0m\u001B[1;33m(\u001B[0m\u001B[0mmsg\u001B[0m\u001B[1;33m)\u001B[0m\u001B[1;33m\u001B[0m\u001B[1;33m\u001B[0m\u001B[0m\n\u001B[0m\u001B[0;32m   1257\u001B[0m \u001B[1;33m\u001B[0m\u001B[0m\n\u001B[0;32m   1258\u001B[0m             \u001B[1;31m# datetimelikes must match exactly\u001B[0m\u001B[1;33m\u001B[0m\u001B[1;33m\u001B[0m\u001B[1;33m\u001B[0m\u001B[0m\n",
      "\u001B[1;31mValueError\u001B[0m: You are trying to merge on object and int64 columns. If you wish to proceed you should use pd.concat"
     ]
    }
   ],
   "source": [
    "df = df.join(densities, on='Lithology')\n",
    "df"
   ],
   "metadata": {
    "collapsed": false,
    "pycharm": {
     "name": "#%%\n"
    }
   }
  },
  {
   "cell_type": "code",
   "execution_count": null,
   "outputs": [],
   "source": [],
   "metadata": {
    "collapsed": false,
    "pycharm": {
     "name": "#%%\n"
    }
   }
  }
 ],
 "metadata": {
  "kernelspec": {
   "display_name": "Python 3",
   "language": "python",
   "name": "python3"
  },
  "language_info": {
   "codemirror_mode": {
    "name": "ipython",
    "version": 2
   },
   "file_extension": ".py",
   "mimetype": "text/x-python",
   "name": "python",
   "nbconvert_exporter": "python",
   "pygments_lexer": "ipython2",
   "version": "2.7.6"
  }
 },
 "nbformat": 4,
 "nbformat_minor": 0
}